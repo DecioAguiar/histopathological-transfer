{
 "cells": [
  {
   "cell_type": "code",
   "execution_count": 1,
   "metadata": {
    "collapsed": true
   },
   "outputs": [],
   "source": [
    "import numpy as np"
   ]
  },
  {
   "cell_type": "markdown",
   "metadata": {},
   "source": [
    "## Carregando conjunto de treino"
   ]
  },
  {
   "cell_type": "code",
   "execution_count": 2,
   "metadata": {
    "collapsed": true
   },
   "outputs": [],
   "source": [
    "x40_train1 = np.load('X40_train1.npy')\n",
    "x40_train2 = np.load('X40_train2.npy')\n",
    "x40_train3 = np.load('X40_train3.npy')\n",
    "x40_train4 = np.load('X40_train4.npy')\n",
    "x40_train5 = np.load('X40_train5.npy')\n",
    "\n",
    "x100_train1 = np.load('X100_train1.npy')\n",
    "x100_train2 = np.load('X100_train2.npy')\n",
    "x100_train3 = np.load('X100_train3.npy')\n",
    "x100_train4 = np.load('X100_train4.npy')\n",
    "x100_train5 = np.load('X100_train5.npy')\n",
    "\n",
    "x200_train1 = np.load('X200_train1.npy')\n",
    "x200_train2 = np.load('X200_train2.npy')\n",
    "x200_train3 = np.load('X200_train3.npy')\n",
    "x200_train4 = np.load('X200_train4.npy')\n",
    "x200_train5 = np.load('X200_train5.npy')\n",
    "\n",
    "x400_train1 = np.load('X400_train1.npy')\n",
    "x400_train2 = np.load('X400_train2.npy')\n",
    "x400_train3 = np.load('X400_train3.npy')\n",
    "x400_train4 = np.load('X400_train4.npy')\n",
    "x400_train5 = np.load('X400_train5.npy')\n",
    "\n",
    "y40_train1 = np.load('y40_train1.npy')\n",
    "y40_train2 = np.load('y40_train2.npy')\n",
    "y40_train3 = np.load('y40_train3.npy')\n",
    "y40_train4 = np.load('y40_train4.npy')\n",
    "y40_train5 = np.load('y40_train5.npy')\n",
    "\n",
    "y100_train1 = np.load('y100_train1.npy')\n",
    "y100_train2 = np.load('y100_train2.npy')\n",
    "y100_train3 = np.load('y100_train3.npy')\n",
    "y100_train4 = np.load('y100_train4.npy')\n",
    "y100_train5 = np.load('y100_train5.npy')\n",
    "\n",
    "y200_train1 = np.load('y200_train1.npy')\n",
    "y200_train2 = np.load('y200_train2.npy')\n",
    "y200_train3 = np.load('y200_train3.npy')\n",
    "y200_train4 = np.load('y200_train4.npy')\n",
    "y200_train5 = np.load('y200_train5.npy')\n",
    "\n",
    "y400_train1 = np.load('y400_train1.npy')\n",
    "y400_train2 = np.load('y400_train2.npy')\n",
    "y400_train3 = np.load('y400_train3.npy')\n",
    "y400_train4 = np.load('y400_train4.npy')\n",
    "y400_train5 = np.load('y400_train5.npy')"
   ]
  },
  {
   "cell_type": "markdown",
   "metadata": {},
   "source": [
    "## Carregando conjunto de teste"
   ]
  },
  {
   "cell_type": "code",
   "execution_count": 3,
   "metadata": {
    "collapsed": true
   },
   "outputs": [],
   "source": [
    "x40_test1 = np.load('X40_test1.npy')\n",
    "x40_test2 = np.load('X40_test2.npy')\n",
    "x40_test3 = np.load('X40_test3.npy')\n",
    "x40_test4 = np.load('X40_test4.npy')\n",
    "x40_test5 = np.load('X40_test5.npy')\n",
    "\n",
    "x100_test1 = np.load('X100_test1.npy')\n",
    "x100_test2 = np.load('X100_test2.npy')\n",
    "x100_test3 = np.load('X100_test3.npy')\n",
    "x100_test4 = np.load('X100_test4.npy')\n",
    "x100_test5 = np.load('X100_test5.npy')\n",
    "\n",
    "x200_test1 = np.load('X200_test1.npy')\n",
    "x200_test2 = np.load('X200_test2.npy')\n",
    "x200_test3 = np.load('X200_test3.npy')\n",
    "x200_test4 = np.load('X200_test4.npy')\n",
    "x200_test5 = np.load('X200_test5.npy')\n",
    "\n",
    "x400_test1 = np.load('X400_test1.npy')\n",
    "x400_test2 = np.load('X400_test2.npy')\n",
    "x400_test3 = np.load('X400_test3.npy')\n",
    "x400_test4 = np.load('X400_test4.npy')\n",
    "x400_test5 = np.load('X400_test5.npy')\n",
    "\n",
    "y40_test1 = np.load('y40_test1.npy')\n",
    "y40_test2 = np.load('y40_test2.npy')\n",
    "y40_test3 = np.load('y40_test3.npy')\n",
    "y40_test4 = np.load('y40_test4.npy')\n",
    "y40_test5 = np.load('y40_test5.npy')\n",
    "\n",
    "y100_test1 = np.load('y100_test1.npy')\n",
    "y100_test2 = np.load('y100_test2.npy')\n",
    "y100_test3 = np.load('y100_test3.npy')\n",
    "y100_test4 = np.load('y100_test4.npy')\n",
    "y100_test5 = np.load('y100_test5.npy')\n",
    "\n",
    "y200_test1 = np.load('y200_test1.npy')\n",
    "y200_test2 = np.load('y200_test2.npy')\n",
    "y200_test3 = np.load('y200_test3.npy')\n",
    "y200_test4 = np.load('y200_test4.npy')\n",
    "y200_test5 = np.load('y200_test5.npy')\n",
    "\n",
    "y400_test1 = np.load('y400_test1.npy')\n",
    "y400_test2 = np.load('y400_test2.npy')\n",
    "y400_test3 = np.load('y400_test3.npy')\n",
    "y400_test4 = np.load('y400_test4.npy')\n",
    "y400_test5 = np.load('y400_test5.npy')"
   ]
  },
  {
   "cell_type": "markdown",
   "metadata": {},
   "source": [
    "# Testes utilizando o SVM "
   ]
  },
  {
   "cell_type": "markdown",
   "metadata": {},
   "source": [
    "### Instanciando svm com diferentes kernels"
   ]
  },
  {
   "cell_type": "code",
   "execution_count": 4,
   "metadata": {
    "collapsed": true
   },
   "outputs": [],
   "source": [
    "from sklearn import svm\n",
    "rbf_svm1 = svm.SVC()\n",
    "rbf_svm2 = svm.SVC()\n",
    "rbf_svm3 = svm.SVC()\n",
    "rbf_svm4 = svm.SVC()\n",
    "rbf_svm5 = svm.SVC()\n",
    "\n",
    "linear_svm1 = svm.SVC(kernel='linear')\n",
    "linear_svm2 = svm.SVC(kernel='linear')\n",
    "linear_svm3 = svm.SVC(kernel='linear')\n",
    "linear_svm4 = svm.SVC(kernel='linear')\n",
    "linear_svm5 = svm.SVC(kernel='linear')\n",
    "\n",
    "polynomial_svm1 = svm.SVC(kernel='poly')\n",
    "polynomial_svm2 = svm.SVC(kernel='poly')\n",
    "polynomial_svm3 = svm.SVC(kernel='poly')\n",
    "polynomial_svm4 = svm.SVC(kernel='poly')\n",
    "polynomial_svm5 = svm.SVC(kernel='poly')\n",
    "\n",
    "sigmoid_svm1 = svm.SVC(kernel='sigmoid')\n",
    "sigmoid_svm2 = svm.SVC(kernel='sigmoid')\n",
    "sigmoid_svm3 = svm.SVC(kernel='sigmoid')\n",
    "sigmoid_svm4 = svm.SVC(kernel='sigmoid')\n",
    "sigmoid_svm5 = svm.SVC(kernel='sigmoid')"
   ]
  },
  {
   "cell_type": "markdown",
   "metadata": {},
   "source": [
    "## Treino com os classificadores gerados"
   ]
  },
  {
   "cell_type": "markdown",
   "metadata": {},
   "source": [
    "### Kernel rbf, Gaussiano"
   ]
  },
  {
   "cell_type": "code",
   "execution_count": 5,
   "metadata": {},
   "outputs": [
    {
     "data": {
      "text/plain": [
       "SVC(C=1.0, cache_size=200, class_weight=None, coef0=0.0,\n",
       "  decision_function_shape=None, degree=3, gamma='auto', kernel='rbf',\n",
       "  max_iter=-1, probability=False, random_state=None, shrinking=True,\n",
       "  tol=0.001, verbose=False)"
      ]
     },
     "execution_count": 5,
     "metadata": {},
     "output_type": "execute_result"
    }
   ],
   "source": [
    "rbf_svm1.fit(x40_train1, y40_train1)"
   ]
  },
  {
   "cell_type": "code",
   "execution_count": 6,
   "metadata": {},
   "outputs": [
    {
     "name": "stdout",
     "output_type": "stream",
     "text": [
      "0.669449081803\n"
     ]
    }
   ],
   "source": [
    "score_rbf1 = rbf_svm1.score(x40_test1, y40_test1)\n",
    "print(score_rbf1)"
   ]
  },
  {
   "cell_type": "code",
   "execution_count": 9,
   "metadata": {},
   "outputs": [
    {
     "data": {
      "text/plain": [
       "SVC(C=1.0, cache_size=200, class_weight=None, coef0=0.0,\n",
       "  decision_function_shape=None, degree=3, gamma='auto', kernel='rbf',\n",
       "  max_iter=-1, probability=False, random_state=None, shrinking=True,\n",
       "  tol=0.001, verbose=False)"
      ]
     },
     "execution_count": 9,
     "metadata": {},
     "output_type": "execute_result"
    }
   ],
   "source": [
    "rbf_svm2.fit(x40_train2, y40_train2)"
   ]
  },
  {
   "cell_type": "code",
   "execution_count": 10,
   "metadata": {},
   "outputs": [
    {
     "name": "stdout",
     "output_type": "stream",
     "text": [
      "0.69449081803\n"
     ]
    }
   ],
   "source": [
    "score_rbf2 = rbf_svm2.score(x40_test2, y40_test2)\n",
    "print(score_rbf2)"
   ]
  },
  {
   "cell_type": "code",
   "execution_count": 11,
   "metadata": {},
   "outputs": [
    {
     "data": {
      "text/plain": [
       "SVC(C=1.0, cache_size=200, class_weight=None, coef0=0.0,\n",
       "  decision_function_shape=None, degree=3, gamma='auto', kernel='rbf',\n",
       "  max_iter=-1, probability=False, random_state=None, shrinking=True,\n",
       "  tol=0.001, verbose=False)"
      ]
     },
     "execution_count": 11,
     "metadata": {},
     "output_type": "execute_result"
    }
   ],
   "source": [
    "rbf_svm3.fit(x40_train3, y40_train3)"
   ]
  },
  {
   "cell_type": "code",
   "execution_count": 12,
   "metadata": {},
   "outputs": [
    {
     "name": "stdout",
     "output_type": "stream",
     "text": [
      "0.681135225376\n"
     ]
    }
   ],
   "source": [
    "score_rbf3 = rbf_svm3.score(x40_test3, y40_test3)\n",
    "print(score_rbf3)"
   ]
  },
  {
   "cell_type": "code",
   "execution_count": 13,
   "metadata": {},
   "outputs": [
    {
     "data": {
      "text/plain": [
       "SVC(C=1.0, cache_size=200, class_weight=None, coef0=0.0,\n",
       "  decision_function_shape=None, degree=3, gamma='auto', kernel='rbf',\n",
       "  max_iter=-1, probability=False, random_state=None, shrinking=True,\n",
       "  tol=0.001, verbose=False)"
      ]
     },
     "execution_count": 13,
     "metadata": {},
     "output_type": "execute_result"
    }
   ],
   "source": [
    "rbf_svm4.fit(x40_train4, y40_train4)"
   ]
  },
  {
   "cell_type": "code",
   "execution_count": 14,
   "metadata": {},
   "outputs": [
    {
     "name": "stdout",
     "output_type": "stream",
     "text": [
      "0.669449081803\n"
     ]
    }
   ],
   "source": [
    "score_rbf4 = rbf_svm4.score(x40_test4, y40_test4)\n",
    "print(score_rbf4)"
   ]
  },
  {
   "cell_type": "code",
   "execution_count": 15,
   "metadata": {},
   "outputs": [
    {
     "data": {
      "text/plain": [
       "SVC(C=1.0, cache_size=200, class_weight=None, coef0=0.0,\n",
       "  decision_function_shape=None, degree=3, gamma='auto', kernel='rbf',\n",
       "  max_iter=-1, probability=False, random_state=None, shrinking=True,\n",
       "  tol=0.001, verbose=False)"
      ]
     },
     "execution_count": 15,
     "metadata": {},
     "output_type": "execute_result"
    }
   ],
   "source": [
    "rbf_svm5.fit(x40_train5, y40_train5)"
   ]
  },
  {
   "cell_type": "code",
   "execution_count": 16,
   "metadata": {},
   "outputs": [
    {
     "name": "stdout",
     "output_type": "stream",
     "text": [
      "0.674457429048\n"
     ]
    }
   ],
   "source": [
    "score_rbf5 = rbf_svm5.score(x40_test5, y40_test5)\n",
    "print(score_rbf5)"
   ]
  },
  {
   "cell_type": "code",
   "execution_count": 19,
   "metadata": {
    "collapsed": true
   },
   "outputs": [],
   "source": [
    "result = []"
   ]
  },
  {
   "cell_type": "code",
   "execution_count": 20,
   "metadata": {
    "collapsed": true
   },
   "outputs": [],
   "source": [
    "result.append(score_rbf1)\n",
    "result.append(score_rbf2)\n",
    "result.append(score_rbf3)\n",
    "result.append(score_rbf4)\n",
    "result.append(score_rbf5)"
   ]
  },
  {
   "cell_type": "code",
   "execution_count": 21,
   "metadata": {},
   "outputs": [],
   "source": [
    "resultado_rbf = np.array(result)"
   ]
  },
  {
   "cell_type": "code",
   "execution_count": 22,
   "metadata": {},
   "outputs": [
    {
     "name": "stdout",
     "output_type": "stream",
     "text": [
      "Accuracy: 0.68 (+/- 0.02)\n"
     ]
    }
   ],
   "source": [
    "print(\"Accuracy: %0.2f (+/- %0.2f)\" % (resultado_rbf.mean(), resultado_rbf.std() * 2))"
   ]
  },
  {
   "cell_type": "markdown",
   "metadata": {},
   "source": [
    "### Kernel linear"
   ]
  },
  {
   "cell_type": "code",
   "execution_count": 5,
   "metadata": {},
   "outputs": [
    {
     "data": {
      "text/plain": [
       "SVC(C=1.0, cache_size=200, class_weight=None, coef0=0.0,\n",
       "  decision_function_shape=None, degree=3, gamma='auto', kernel='linear',\n",
       "  max_iter=-1, probability=False, random_state=None, shrinking=True,\n",
       "  tol=0.001, verbose=False)"
      ]
     },
     "execution_count": 5,
     "metadata": {},
     "output_type": "execute_result"
    }
   ],
   "source": [
    "linear_svm1.fit(x40_train1, y40_train1)"
   ]
  },
  {
   "cell_type": "code",
   "execution_count": 6,
   "metadata": {},
   "outputs": [
    {
     "name": "stdout",
     "output_type": "stream",
     "text": [
      "0.85141903172\n"
     ]
    }
   ],
   "source": [
    "linear_score1 = linear_svm1.score(x40_test1, y40_test1)\n",
    "print(linear_score1)"
   ]
  },
  {
   "cell_type": "code",
   "execution_count": 7,
   "metadata": {},
   "outputs": [
    {
     "data": {
      "text/plain": [
       "SVC(C=1.0, cache_size=200, class_weight=None, coef0=0.0,\n",
       "  decision_function_shape=None, degree=3, gamma='auto', kernel='linear',\n",
       "  max_iter=-1, probability=False, random_state=None, shrinking=True,\n",
       "  tol=0.001, verbose=False)"
      ]
     },
     "execution_count": 7,
     "metadata": {},
     "output_type": "execute_result"
    }
   ],
   "source": [
    "linear_svm2.fit(x40_train2, y40_train2)"
   ]
  },
  {
   "cell_type": "code",
   "execution_count": 8,
   "metadata": {},
   "outputs": [
    {
     "name": "stdout",
     "output_type": "stream",
     "text": [
      "0.86143572621\n"
     ]
    }
   ],
   "source": [
    "linear_score2 = linear_svm2.score(x40_test2, y40_test2)\n",
    "print(linear_score2)"
   ]
  },
  {
   "cell_type": "code",
   "execution_count": 9,
   "metadata": {},
   "outputs": [
    {
     "data": {
      "text/plain": [
       "SVC(C=1.0, cache_size=200, class_weight=None, coef0=0.0,\n",
       "  decision_function_shape=None, degree=3, gamma='auto', kernel='linear',\n",
       "  max_iter=-1, probability=False, random_state=None, shrinking=True,\n",
       "  tol=0.001, verbose=False)"
      ]
     },
     "execution_count": 9,
     "metadata": {},
     "output_type": "execute_result"
    }
   ],
   "source": [
    "linear_svm3.fit(x40_train3, y40_train3)"
   ]
  },
  {
   "cell_type": "code",
   "execution_count": 10,
   "metadata": {},
   "outputs": [
    {
     "name": "stdout",
     "output_type": "stream",
     "text": [
      "0.853088480801\n"
     ]
    }
   ],
   "source": [
    "linear_score3 = linear_svm3.score(x40_test3, y40_test3)\n",
    "print(linear_score3)"
   ]
  },
  {
   "cell_type": "code",
   "execution_count": 11,
   "metadata": {},
   "outputs": [
    {
     "data": {
      "text/plain": [
       "SVC(C=1.0, cache_size=200, class_weight=None, coef0=0.0,\n",
       "  decision_function_shape=None, degree=3, gamma='auto', kernel='linear',\n",
       "  max_iter=-1, probability=False, random_state=None, shrinking=True,\n",
       "  tol=0.001, verbose=False)"
      ]
     },
     "execution_count": 11,
     "metadata": {},
     "output_type": "execute_result"
    }
   ],
   "source": [
    "linear_svm4.fit(x40_train4, y40_train4)"
   ]
  },
  {
   "cell_type": "code",
   "execution_count": 12,
   "metadata": {},
   "outputs": [
    {
     "name": "stdout",
     "output_type": "stream",
     "text": [
      "0.85141903172\n"
     ]
    }
   ],
   "source": [
    "linear_score4 = linear_svm4.score(x40_test4, y40_test4)\n",
    "print(linear_score4)"
   ]
  },
  {
   "cell_type": "code",
   "execution_count": 13,
   "metadata": {},
   "outputs": [
    {
     "data": {
      "text/plain": [
       "SVC(C=1.0, cache_size=200, class_weight=None, coef0=0.0,\n",
       "  decision_function_shape=None, degree=3, gamma='auto', kernel='linear',\n",
       "  max_iter=-1, probability=False, random_state=None, shrinking=True,\n",
       "  tol=0.001, verbose=False)"
      ]
     },
     "execution_count": 13,
     "metadata": {},
     "output_type": "execute_result"
    }
   ],
   "source": [
    "linear_svm5.fit(x40_train5, y40_train5)"
   ]
  },
  {
   "cell_type": "code",
   "execution_count": 14,
   "metadata": {},
   "outputs": [
    {
     "name": "stdout",
     "output_type": "stream",
     "text": [
      "0.871452420701\n"
     ]
    }
   ],
   "source": [
    "linear_score5 = linear_svm5.score(x40_test5, y40_test5)\n",
    "print(linear_score5)"
   ]
  },
  {
   "cell_type": "code",
   "execution_count": 15,
   "metadata": {
    "collapsed": true
   },
   "outputs": [],
   "source": [
    "result = []"
   ]
  },
  {
   "cell_type": "code",
   "execution_count": 16,
   "metadata": {
    "collapsed": true
   },
   "outputs": [],
   "source": [
    "result.append(linear_score1)\n",
    "result.append(linear_score2)\n",
    "result.append(linear_score3)\n",
    "result.append(linear_score4)\n",
    "result.append(linear_score5)"
   ]
  },
  {
   "cell_type": "code",
   "execution_count": 17,
   "metadata": {
    "collapsed": true
   },
   "outputs": [],
   "source": [
    "resultado_linear = np.array(result)"
   ]
  },
  {
   "cell_type": "code",
   "execution_count": 18,
   "metadata": {},
   "outputs": [
    {
     "name": "stdout",
     "output_type": "stream",
     "text": [
      "Accuracy: 0.86 (+/- 0.02)\n"
     ]
    }
   ],
   "source": [
    "print(\"Accuracy: %0.2f (+/- %0.2f)\" % (resultado_linear.mean(), resultado_linear.std() * 2))"
   ]
  },
  {
   "cell_type": "markdown",
   "metadata": {},
   "source": [
    "### Kernel polynomial"
   ]
  },
  {
   "cell_type": "code",
   "execution_count": 10,
   "metadata": {},
   "outputs": [
    {
     "ename": "MemoryError",
     "evalue": "",
     "output_type": "error",
     "traceback": [
      "\u001b[0;31m---------------------------------------------------------------------------\u001b[0m",
      "\u001b[0;31mMemoryError\u001b[0m                               Traceback (most recent call last)",
      "\u001b[0;32m<ipython-input-10-3d7d1473130a>\u001b[0m in \u001b[0;36m<module>\u001b[0;34m()\u001b[0m\n\u001b[1;32m      1\u001b[0m \u001b[0mpolynomial_svm1\u001b[0m\u001b[0;34m.\u001b[0m\u001b[0mfit\u001b[0m\u001b[0;34m(\u001b[0m\u001b[0mx40_train1\u001b[0m\u001b[0;34m,\u001b[0m \u001b[0my40_train1\u001b[0m\u001b[0;34m)\u001b[0m\u001b[0;34m\u001b[0m\u001b[0m\n\u001b[0;32m----> 2\u001b[0;31m \u001b[0mpolynomial_svm2\u001b[0m\u001b[0;34m.\u001b[0m\u001b[0mfit\u001b[0m\u001b[0;34m(\u001b[0m\u001b[0mx40_train2\u001b[0m\u001b[0;34m,\u001b[0m \u001b[0my40_train2\u001b[0m\u001b[0;34m)\u001b[0m\u001b[0;34m\u001b[0m\u001b[0m\n\u001b[0m\u001b[1;32m      3\u001b[0m \u001b[0mpolynomial_svm3\u001b[0m\u001b[0;34m.\u001b[0m\u001b[0mfit\u001b[0m\u001b[0;34m(\u001b[0m\u001b[0mx40_train3\u001b[0m\u001b[0;34m,\u001b[0m \u001b[0my40_train3\u001b[0m\u001b[0;34m)\u001b[0m\u001b[0;34m\u001b[0m\u001b[0m\n\u001b[1;32m      4\u001b[0m \u001b[0mpolynomial_svm4\u001b[0m\u001b[0;34m.\u001b[0m\u001b[0mfit\u001b[0m\u001b[0;34m(\u001b[0m\u001b[0mx40_train4\u001b[0m\u001b[0;34m,\u001b[0m \u001b[0my40_train4\u001b[0m\u001b[0;34m)\u001b[0m\u001b[0;34m\u001b[0m\u001b[0m\n\u001b[1;32m      5\u001b[0m \u001b[0mpolynomial_svm5\u001b[0m\u001b[0;34m.\u001b[0m\u001b[0mfit\u001b[0m\u001b[0;34m(\u001b[0m\u001b[0mx40_train5\u001b[0m\u001b[0;34m,\u001b[0m \u001b[0my40_train5\u001b[0m\u001b[0;34m)\u001b[0m\u001b[0;34m\u001b[0m\u001b[0m\n",
      "\u001b[0;32m/home/decio/anaconda3/lib/python3.6/site-packages/sklearn/svm/base.py\u001b[0m in \u001b[0;36mfit\u001b[0;34m(self, X, y, sample_weight)\u001b[0m\n\u001b[1;32m    187\u001b[0m \u001b[0;34m\u001b[0m\u001b[0m\n\u001b[1;32m    188\u001b[0m         \u001b[0mseed\u001b[0m \u001b[0;34m=\u001b[0m \u001b[0mrnd\u001b[0m\u001b[0;34m.\u001b[0m\u001b[0mrandint\u001b[0m\u001b[0;34m(\u001b[0m\u001b[0mnp\u001b[0m\u001b[0;34m.\u001b[0m\u001b[0miinfo\u001b[0m\u001b[0;34m(\u001b[0m\u001b[0;34m'i'\u001b[0m\u001b[0;34m)\u001b[0m\u001b[0;34m.\u001b[0m\u001b[0mmax\u001b[0m\u001b[0;34m)\u001b[0m\u001b[0;34m\u001b[0m\u001b[0m\n\u001b[0;32m--> 189\u001b[0;31m         \u001b[0mfit\u001b[0m\u001b[0;34m(\u001b[0m\u001b[0mX\u001b[0m\u001b[0;34m,\u001b[0m \u001b[0my\u001b[0m\u001b[0;34m,\u001b[0m \u001b[0msample_weight\u001b[0m\u001b[0;34m,\u001b[0m \u001b[0msolver_type\u001b[0m\u001b[0;34m,\u001b[0m \u001b[0mkernel\u001b[0m\u001b[0;34m,\u001b[0m \u001b[0mrandom_seed\u001b[0m\u001b[0;34m=\u001b[0m\u001b[0mseed\u001b[0m\u001b[0;34m)\u001b[0m\u001b[0;34m\u001b[0m\u001b[0m\n\u001b[0m\u001b[1;32m    190\u001b[0m         \u001b[0;31m# see comment on the other call to np.iinfo in this file\u001b[0m\u001b[0;34m\u001b[0m\u001b[0;34m\u001b[0m\u001b[0m\n\u001b[1;32m    191\u001b[0m \u001b[0;34m\u001b[0m\u001b[0m\n",
      "\u001b[0;32m/home/decio/anaconda3/lib/python3.6/site-packages/sklearn/svm/base.py\u001b[0m in \u001b[0;36m_dense_fit\u001b[0;34m(self, X, y, sample_weight, solver_type, kernel, random_seed)\u001b[0m\n\u001b[1;32m    254\u001b[0m                 \u001b[0mcache_size\u001b[0m\u001b[0;34m=\u001b[0m\u001b[0mself\u001b[0m\u001b[0;34m.\u001b[0m\u001b[0mcache_size\u001b[0m\u001b[0;34m,\u001b[0m \u001b[0mcoef0\u001b[0m\u001b[0;34m=\u001b[0m\u001b[0mself\u001b[0m\u001b[0;34m.\u001b[0m\u001b[0mcoef0\u001b[0m\u001b[0;34m,\u001b[0m\u001b[0;34m\u001b[0m\u001b[0m\n\u001b[1;32m    255\u001b[0m                 \u001b[0mgamma\u001b[0m\u001b[0;34m=\u001b[0m\u001b[0mself\u001b[0m\u001b[0;34m.\u001b[0m\u001b[0m_gamma\u001b[0m\u001b[0;34m,\u001b[0m \u001b[0mepsilon\u001b[0m\u001b[0;34m=\u001b[0m\u001b[0mself\u001b[0m\u001b[0;34m.\u001b[0m\u001b[0mepsilon\u001b[0m\u001b[0;34m,\u001b[0m\u001b[0;34m\u001b[0m\u001b[0m\n\u001b[0;32m--> 256\u001b[0;31m                 max_iter=self.max_iter, random_seed=random_seed)\n\u001b[0m\u001b[1;32m    257\u001b[0m \u001b[0;34m\u001b[0m\u001b[0m\n\u001b[1;32m    258\u001b[0m         \u001b[0mself\u001b[0m\u001b[0;34m.\u001b[0m\u001b[0m_warn_from_fit_status\u001b[0m\u001b[0;34m(\u001b[0m\u001b[0;34m)\u001b[0m\u001b[0;34m\u001b[0m\u001b[0m\n",
      "\u001b[0;32msklearn/svm/libsvm.pyx\u001b[0m in \u001b[0;36msklearn.svm.libsvm.fit (sklearn/svm/libsvm.c:2913)\u001b[0;34m()\u001b[0m\n",
      "\u001b[0;31mMemoryError\u001b[0m: "
     ]
    }
   ],
   "source": [
    "polynomial_svm1.fit(x40_train1, y40_train1)\n",
    "polynomial_svm2.fit(x40_train2, y40_train2)\n",
    "polynomial_svm3.fit(x40_train3, y40_train3)\n",
    "polynomial_svm4.fit(x40_train4, y40_train4)\n",
    "polynomial_svm5.fit(x40_train5, y40_train5)"
   ]
  },
  {
   "cell_type": "markdown",
   "metadata": {},
   "source": [
    "### Kernel sigmoid"
   ]
  },
  {
   "cell_type": "code",
   "execution_count": null,
   "metadata": {
    "collapsed": true
   },
   "outputs": [],
   "source": [
    "sigmoid_svm1.fit(x40_train1, y40_train1)\n",
    "sigmoid_svm2.fit(x40_train2, y40_train2)\n",
    "sigmoid_svm3.fit(x40_train3, y40_train3)\n",
    "sigmoid_svm4.fit(x40_train4, y40_train4)\n",
    "sigmoid_svm5.fit(x40_train5, y40_train5)"
   ]
  },
  {
   "cell_type": "markdown",
   "metadata": {},
   "source": [
    "## Teste dos modelos gerados"
   ]
  },
  {
   "cell_type": "markdown",
   "metadata": {},
   "source": [
    "### Kernel rbf"
   ]
  },
  {
   "cell_type": "code",
   "execution_count": null,
   "metadata": {
    "collapsed": true
   },
   "outputs": [],
   "source": [
    "rbf_svm1.score(x40_train1, y40_train1)\n",
    "rbf_svm2.score(X40_train2, y40_train2)\n",
    "rbf_svm3.score(X40_train3, y40_train3)\n",
    "rbf_svm4.score(X40_train4, y40_train4)\n",
    "rbf_svm5.score(X40_train5, y40_train5)"
   ]
  }
 ],
 "metadata": {
  "kernelspec": {
   "display_name": "Python 3",
   "language": "python",
   "name": "python3"
  },
  "language_info": {
   "codemirror_mode": {
    "name": "ipython",
    "version": 3
   },
   "file_extension": ".py",
   "mimetype": "text/x-python",
   "name": "python",
   "nbconvert_exporter": "python",
   "pygments_lexer": "ipython3",
   "version": "3.6.1"
  }
 },
 "nbformat": 4,
 "nbformat_minor": 2
}

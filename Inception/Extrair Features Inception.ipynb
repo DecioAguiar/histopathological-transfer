{
 "cells": [
  {
   "cell_type": "code",
   "execution_count": 1,
   "metadata": {},
   "outputs": [
    {
     "name": "stderr",
     "output_type": "stream",
     "text": [
      "Using TensorFlow backend.\n"
     ]
    }
   ],
   "source": [
    "import numpy as np  \n",
    "from keras.preprocessing.image import ImageDataGenerator, img_to_array, load_img  \n",
    "from keras.models import Sequential  \n",
    "from keras.layers import Dropout, Flatten, Dense  \n",
    "from keras import applications  \n",
    "from keras.utils.np_utils import to_categorical  \n",
    "import matplotlib.pyplot as plt  \n",
    "import math  "
   ]
  },
  {
   "cell_type": "code",
   "execution_count": 2,
   "metadata": {
    "collapsed": true
   },
   "outputs": [],
   "source": [
    "#Dimensoes de entrada da inception\n",
    "img_width, img_height = 299, 299\n",
    "\n",
    "batch_size = 16\n",
    "\n",
    "#Path dos dados a serem utilizados\n",
    "data_dir40 = '../Dados/breast_cancer40'\n",
    "data_dir100 = '../Dados/breast_cancer100'\n",
    "data_dir200 = '../Dados/breast_cancer200'\n",
    "data_dir400 = '../Dados/breast_cancer400'"
   ]
  },
  {
   "cell_type": "markdown",
   "metadata": {},
   "source": [
    "# Extração de Features inception do conjunto de fator 40x"
   ]
  },
  {
   "cell_type": "code",
   "execution_count": 3,
   "metadata": {},
   "outputs": [
    {
     "name": "stdout",
     "output_type": "stream",
     "text": [
      "Found 1995 images belonging to 2 classes.\n"
     ]
    }
   ],
   "source": [
    "#Constroi a inception com os pesos do imagenet sem a camada de classificação\n",
    "model = applications.InceptionV3(include_top=False, weights='imagenet')\n",
    "\n",
    "\n",
    "datagen = ImageDataGenerator(rescale=1. / 255)\n",
    "\n",
    "#Faz o carregamento das imagens e as redimensiona para o tamanho de entrada da arquitetura\n",
    "generator40 = datagen.flow_from_directory(\n",
    "    data_dir40,\n",
    "    batch_size=batch_size,\n",
    "    target_size=(img_width, img_height),\n",
    "    class_mode=None,\n",
    "    shuffle=False)\n",
    "\n",
    "nb_train_samples = len(generator40.filenames)\n",
    "num_classes = len(generator40.class_indices)\n",
    "\n",
    "predict_size_train = int(math.ceil(nb_train_samples / batch_size))\n",
    "\n",
    "bottleneck_features_40 = model.predict_generator(\n",
    "    generator40, predict_size_train)\n",
    "\n",
    "np.save('bottleneck_features_40.npy', bottleneck_features_40)"
   ]
  },
  {
   "cell_type": "markdown",
   "metadata": {},
   "source": [
    "# Extração de Features VGG19 do conjunto de fator 100x "
   ]
  },
  {
   "cell_type": "code",
   "execution_count": 4,
   "metadata": {},
   "outputs": [
    {
     "name": "stdout",
     "output_type": "stream",
     "text": [
      "Found 2081 images belonging to 2 classes.\n"
     ]
    }
   ],
   "source": [
    "#Constroi a inception com os pesos do imagenet sem a camada de classificação\n",
    "model = applications.InceptionV3(include_top=False, weights='imagenet')\n",
    "\n",
    "datagen = ImageDataGenerator(rescale=1. / 255)\n",
    "\n",
    "#Faz o carregamento das imagens e as redimensiona para o tamanho de entrada da arquitetura\n",
    "generator100 = datagen.flow_from_directory(\n",
    "    data_dir100,\n",
    "    batch_size=batch_size,\n",
    "    target_size=(img_width, img_height),\n",
    "    class_mode=None,\n",
    "    shuffle=False)\n",
    "\n",
    "nb_train_samples = len(generator100.filenames)\n",
    "num_classes = len(generator100.class_indices)\n",
    "\n",
    "predict_size_train = int(math.ceil(nb_train_samples / batch_size))\n",
    "\n",
    "bottleneck_features_100 = model.predict_generator(\n",
    "    generator100, predict_size_train)\n",
    "\n",
    "np.save('bottleneck_features_100.npy', bottleneck_features_100)"
   ]
  },
  {
   "cell_type": "markdown",
   "metadata": {},
   "source": [
    "# Extração de Features VGG19 do conjunto de fator 200x"
   ]
  },
  {
   "cell_type": "code",
   "execution_count": 5,
   "metadata": {},
   "outputs": [
    {
     "name": "stdout",
     "output_type": "stream",
     "text": [
      "Found 2013 images belonging to 2 classes.\n"
     ]
    }
   ],
   "source": [
    "#Constroi a inception com os pesos do imagenet sem a camada de classificação\n",
    "model = applications.InceptionV3(include_top=False, weights='imagenet')\n",
    "\n",
    "datagen = ImageDataGenerator(rescale=1. / 255)\n",
    "\n",
    "#Faz o carregamento das imagens e as redimensiona para o tamanho de entrada da arquitetura\n",
    "generator200 = datagen.flow_from_directory(\n",
    "    data_dir200,\n",
    "    batch_size=batch_size,\n",
    "    target_size=(img_width, img_height),\n",
    "    class_mode=None,\n",
    "    shuffle=False)\n",
    "\n",
    "nb_train_samples = len(generator200.filenames)\n",
    "num_classes = len(generator200.class_indices)\n",
    "\n",
    "predict_size_train = int(math.ceil(nb_train_samples / batch_size))\n",
    "\n",
    "bottleneck_features_200 = model.predict_generator(\n",
    "    generator200, predict_size_train)\n",
    "\n",
    "np.save('bottleneck_features_200.npy', bottleneck_features_200)"
   ]
  },
  {
   "cell_type": "markdown",
   "metadata": {},
   "source": [
    "# Extração de Features VGG19 do conjunto de fator 400x "
   ]
  },
  {
   "cell_type": "code",
   "execution_count": 6,
   "metadata": {},
   "outputs": [
    {
     "name": "stdout",
     "output_type": "stream",
     "text": [
      "Found 1820 images belonging to 2 classes.\n"
     ]
    }
   ],
   "source": [
    "#Constroi a inception com os pesos do imagenet sem a camada de classificação\n",
    "model = applications.InceptionV3(include_top=False, weights='imagenet')\n",
    "\n",
    "datagen = ImageDataGenerator(rescale=1. / 255)\n",
    "\n",
    "#Faz o carregamento das imagens e as redimensiona para o tamanho de entrada da arquitetura\n",
    "generator400 = datagen.flow_from_directory(\n",
    "    data_dir400,\n",
    "    batch_size=batch_size,\n",
    "    target_size=(img_width, img_height),\n",
    "    class_mode=None,\n",
    "    shuffle=False)\n",
    "\n",
    "nb_train_samples = len(generator400.filenames)\n",
    "num_classes = len(generator400.class_indices)\n",
    "\n",
    "predict_size_train = int(math.ceil(nb_train_samples / batch_size))\n",
    "\n",
    "bottleneck_features_400 = model.predict_generator(\n",
    "    generator400, predict_size_train)\n",
    "\n",
    "np.save('bottleneck_features_400.npy', bottleneck_features_400)"
   ]
  },
  {
   "cell_type": "code",
   "execution_count": null,
   "metadata": {
    "collapsed": true
   },
   "outputs": [],
   "source": []
  }
 ],
 "metadata": {
  "kernelspec": {
   "display_name": "Python 3",
   "language": "python",
   "name": "python3"
  },
  "language_info": {
   "codemirror_mode": {
    "name": "ipython",
    "version": 3
   },
   "file_extension": ".py",
   "mimetype": "text/x-python",
   "name": "python",
   "nbconvert_exporter": "python",
   "pygments_lexer": "ipython3",
   "version": "3.6.1"
  }
 },
 "nbformat": 4,
 "nbformat_minor": 2
}
